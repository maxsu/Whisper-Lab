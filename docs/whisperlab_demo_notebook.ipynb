{
 "cells": [
  {
   "cell_type": "markdown",
   "metadata": {},
   "source": [
    "<a target=\"_blank\" href=\"https://colab.research.google.com/github/maxsu/WhisperColab.py/blob/main/WhisperColabTest.ipynb\">\n",
    "  <img src=\"https://colab.research.google.com/assets/colab-badge.svg\" alt=\"Open In Colab\"/>\n",
    "</a>"
   ]
  },
  {
   "cell_type": "code",
   "execution_count": null,
   "metadata": {},
   "outputs": [],
   "source": [
    "# Dependencies\n",
    "%pip install whisperlab\n",
    "!ffmpeg -version"
   ]
  },
  {
   "cell_type": "code",
   "execution_count": null,
   "metadata": {},
   "outputs": [],
   "source": [
    "from pathlib import Path\n",
    "from whisperlab.transcribe import transcribe, TranscribeTask\n",
    "\n",
    "import whisperlab.logging\n",
    "\n",
    "whisperlab.logging.config_log\n",
    "log = whisperlab.logging.get_logger(\"main\")\n",
    "\n",
    "\n",
    "FILE_0 = Path(\"audio/the_most_dangerous_game.mp3\")\n",
    "\n",
    "log.info(\"Starting the Whisper Lab Demo\")\n",
    "\n",
    "task = TranscribeTask(\n",
    "    audio_file=FILE_0,\n",
    ")\n",
    "\n",
    "result = transcribe(task)"
   ]
  }
 ],
 "metadata": {
  "language_info": {
   "name": "python"
  }
 },
 "nbformat": 4,
 "nbformat_minor": 0
}
